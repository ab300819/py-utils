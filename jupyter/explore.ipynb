{
 "cells": [
  {
   "cell_type": "code",
   "metadata": {},
   "outputs": [],
   "source": [
    "import requests as rq\n",
    "import json\n",
    "import subprocess as sp"
   ]
  },
  {
   "cell_type": "code",
   "metadata": {},
   "outputs": [],
   "source": [
    "sp.call('ls -l',shell=True)"
   ]
  },
  {
   "cell_type": "code",
   "metadata": {},
   "outputs": [],
   "source": [
    "from aliyunsdkcore.client import AcsClient\n",
    "from aliyunsdkcore.acs_exception.exceptions import ClientException\n",
    "from aliyunsdkcore.acs_exception.exceptions import ServerException\n",
    "from aliyunsdkalidns.request.v20150109.DescribeDomainRecordsRequest import DescribeDomainRecordsRequest\n",
    "\n",
    "client = AcsClient('<accessKeyId>', '<accessSecret>', 'cn-hangzhou')\n",
    "\n",
    "request = DescribeDomainRecordsRequest()\n",
    "request.set_accept_format('json')\n",
    "\n",
    "request.set_DomainName('happy')\n",
    "\n",
    "response = client.do_action_with_exception(request)\n",
    "print(str(response, encoding='utf-8'))"
   ]
  },
  {
   "cell_type": "code",
   "metadata": {},
   "outputs": [],
   "source": [
    "#!/usr/bin/env python\n",
    "#coding=utf-8\n",
    "\n",
    "from aliyunsdkcore.client import AcsClient\n",
    "from aliyunsdkcore.acs_exception.exceptions import ClientException\n",
    "from aliyunsdkcore.acs_exception.exceptions import ServerException\n",
    "from aliyunsdkalidns.request.v20150109.UpdateDomainRecordRequest import UpdateDomainRecordRequest\n",
    "\n",
    "client = AcsClient('<accessKeyId>', '<accessSecret>', 'cn-hangzhou')\n",
    "\n",
    "request = UpdateDomainRecordRequest()\n",
    "request.set_accept_format('json')\n",
    "\n",
    "request.set_RecordId(\"18856\")\n",
    "request.set_RR(\"ddns\")\n",
    "request.set_Type(\"A\")\n",
    "request.set_Value(\"127.0.0.1\")\n",
    "\n",
    "response = client.do_action_with_exception(request)\n",
    "\n",
    "print(str(response, encoding='utf-8'))\n"
   ]
  },
  {
   "cell_type": "code",
   "metadata": {},
   "outputs": [],
   "source": [
    "import requests as rq\n",
    "r=rq.get('http://www.cip.cc/')\n",
    "print(r.text)"
   ]
  }
 ],
 "metadata": {
  "kernelspec": {
   "display_name": "Python 3",
   "language": "python",
   "name": "python3"
  },
  "language_info": {
   "codemirror_mode": {
    "name": "ipython",
    "version": 3
   },
   "file_extension": ".py",
   "mimetype": "text/x-python",
   "name": "python",
   "nbconvert_exporter": "python",
   "pygments_lexer": "ipython3",
   "version": "3.6.8"
  }
 },
 "nbformat": 4,
 "nbformat_minor": 2
}